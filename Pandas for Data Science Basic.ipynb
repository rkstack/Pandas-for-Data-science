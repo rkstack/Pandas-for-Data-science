{
 "cells": [
  {
   "cell_type": "markdown",
   "metadata": {},
   "source": [
    "## Pandas on CSV basics - I\n",
    "\n",
    "\n"
   ]
  },
  {
   "cell_type": "markdown",
   "metadata": {},
   "source": [
    "# "
   ]
  },
  {
   "cell_type": "markdown",
   "metadata": {},
   "source": [
    "### 1. Count of Flower "
   ]
  },
  {
   "cell_type": "markdown",
   "metadata": {},
   "source": [
    "Problem Statement\n",
    "Find and print count of each kind of flower (separated by space)?\n",
    "Note: Get the dataset from here\n",
    "Print the count as Integer Value."
   ]
  },
  {
   "cell_type": "code",
   "execution_count": 1,
   "metadata": {},
   "outputs": [
    {
     "name": "stdout",
     "output_type": "stream",
     "text": [
      "50 50 50 "
     ]
    }
   ],
   "source": [
    "import pandas as pd\n",
    "\n",
    "df=pd.read_csv('https://gist.githubusercontent.com/netj/8836201/raw/6f9306ad21398ea43cba4f7d537619d0e07d5ae3/iris.csv')\n",
    "\n",
    "arr=df['variety'].value_counts()\n",
    "\n",
    "for i in arr:\n",
    "    print(i,end=' ')"
   ]
  },
  {
   "cell_type": "markdown",
   "metadata": {},
   "source": [
    "### 2. Iris Virginica "
   ]
  },
  {
   "cell_type": "markdown",
   "metadata": {},
   "source": [
    "Problem Statement\n",
    "Find the data of flower “Iris-virginica” type where petal-length > 1.5?\n",
    "Note: Get the dataset from here\n",
    "Print the all the feature values.\n",
    "Output Format\n",
    "\n",
    "feature1 feature2 feature3 feature4 feature5\n",
    "\n",
    "feature1 feature2 feature3 feature4 feature5\n",
    "\n",
    "feature1 feature2 feature3 feature4 feature5\n",
    "\n",
    "feature1 feature2 feature3 feature4 feature5"
   ]
  },
  {
   "cell_type": "code",
   "execution_count": null,
   "metadata": {},
   "outputs": [],
   "source": [
    "import pandas as pd\n",
    "\n",
    "df=pd.read_csv('https://files.codingninjas.in/iris-8116.csv')\n",
    "\n",
    "\n",
    "df2=df.loc[(df['variety']=='Iris-virginica') & (df['petal.length']>1.5)]\n",
    "\n",
    "for i in range(0,50,1):\n",
    "    for j in range(0,5,1):\n",
    "        print(df2.iloc[i,j], end=\" \")\n",
    "    print()"
   ]
  },
  {
   "cell_type": "markdown",
   "metadata": {},
   "source": [
    "### 3. Iris Values "
   ]
  },
  {
   "cell_type": "markdown",
   "metadata": {},
   "source": [
    "Problem Statement\n",
    "Find and print the minimum, maximum and average value of the feature for each kind of flower ?\n",
    "Note: Get the dataset from here\n",
    "Print the value with two decimal places.\n",
    "Note: Order for flower is Iris-setosa, Iris-versicolor and Iris-virginica.\n",
    "Output Format\n",
    "\n",
    "minSL minSW minPL minPW Iris-setosa\n",
    "\n",
    "maxSL maxSW maxPL maxPW Iris-setosa\n",
    "\n",
    "avgSL avgSW avgPL avgPW Iris-setosa"
   ]
  },
  {
   "cell_type": "code",
   "execution_count": 3,
   "metadata": {},
   "outputs": [
    {
     "name": "stdout",
     "output_type": "stream",
     "text": [
      "4.30 2.30 1.00 0.10 Iris-setosa\n",
      "5.80 4.40 1.90 0.60 Iris-setosa\n",
      "5.01 3.42 1.46 0.24 Iris-setosa\n",
      "4.90 2.00 3.00 1.00 Iris-versicolor\n",
      "7.00 3.40 5.10 1.80 Iris-versicolor\n",
      "5.94 2.77 4.26 1.33 Iris-versicolor\n",
      "4.90 2.20 4.50 1.40 Iris-virginica\n",
      "7.90 3.80 6.90 2.50 Iris-virginica\n",
      "6.59 2.97 5.55 2.03 Iris-virginica\n"
     ]
    }
   ],
   "source": [
    "import pandas as pd\n",
    "\n",
    "columns = ['SepalLength','SepalWidth','PetalLength','PetalWidth','Species']\n",
    "iris = pd.read_csv(\"https://archive.ics.uci.edu/ml/machine-learning-databases/iris/iris.data\",names = columns)\n",
    "species1 = 'Iris-setosa'\n",
    "speciesdetail1 = iris[iris['Species']==species1].describe()\n",
    "\n",
    "\n",
    "species_list = iris[\"Species\"].unique()\n",
    "for flower in species_list:\n",
    "    flower_f = iris[iris.Species==flower]\n",
    "    \n",
    "    print(f'{min(flower_f[\"SepalLength\"]):.2f} {min(flower_f[\"SepalWidth\"]):.2f} {min(flower_f[\"PetalLength\"]):.2f} {min(flower_f[\"PetalWidth\"]):.2f} {flower}')\n",
    "    print(f'{max(flower_f[\"SepalLength\"]):.2f} {max(flower_f[\"SepalWidth\"]):.2f} {max(flower_f[\"PetalLength\"]):.2f} {max(flower_f[\"PetalWidth\"]):.2f} {flower}') \n",
    "    print(f'{flower_f[\"SepalLength\"].mean():.2f} {flower_f[\"SepalWidth\"].mean():.2f} {flower_f[\"PetalLength\"].mean():.2f} {flower_f[\"PetalWidth\"].mean():.2f} {flower}')\n"
   ]
  },
  {
   "cell_type": "markdown",
   "metadata": {},
   "source": [
    "### This coding was done  by @RK2021"
   ]
  },
  {
   "cell_type": "code",
   "execution_count": null,
   "metadata": {},
   "outputs": [],
   "source": []
  }
 ],
 "metadata": {
  "kernelspec": {
   "display_name": "Python 3",
   "language": "python",
   "name": "python3"
  },
  "language_info": {
   "codemirror_mode": {
    "name": "ipython",
    "version": 3
   },
   "file_extension": ".py",
   "mimetype": "text/x-python",
   "name": "python",
   "nbconvert_exporter": "python",
   "pygments_lexer": "ipython3",
   "version": "3.8.5"
  }
 },
 "nbformat": 4,
 "nbformat_minor": 4
}
