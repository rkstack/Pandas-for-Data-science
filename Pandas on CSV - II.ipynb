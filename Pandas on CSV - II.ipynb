{
 "cells": [
  {
   "cell_type": "markdown",
   "metadata": {},
   "source": [
    "## Pandas  on CSV - II"
   ]
  },
  {
   "cell_type": "markdown",
   "metadata": {},
   "source": [
    "#### Given file \"terrorismData.csv\" It is an open-source database including information on terrorist attacks around the world from 1970 through 2017. This dataset includes systematic data on domestic as well as international terrorist incidents that have occurred during this time period"
   ]
  },
  {
   "cell_type": "markdown",
   "metadata": {},
   "source": [
    " ###  1. Terror Attack City "
   ]
  },
  {
   "cell_type": "markdown",
   "metadata": {},
   "source": [
    "Problem Statement :\n",
    "The Most Dangerous city in Jammu and Kashmir and the terrorist group which is most active in that city?\n",
    "Print count of number of attacks in that city as integer value.\n",
    "Note:Ignoring the Unknown Terrorist Group.Here Dangerous related with the number of terrorist attacks.\n",
    "Output Format :\n",
    "\n",
    "City NumberOfAttack Group"
   ]
  },
  {
   "cell_type": "code",
   "execution_count": 3,
   "metadata": {},
   "outputs": [
    {
     "name": "stdout",
     "output_type": "stream",
     "text": [
      "Srinagar 657 Muslim Separatists\n"
     ]
    }
   ],
   "source": [
    "import pandas as pd\n",
    "\n",
    "df=pd.read_csv('terrorismData.csv')\n",
    "\n",
    "df=df[df.State=='Jammu and Kashmir']   # filtered for state\n",
    "\n",
    "df=df[df.City==df.City.describe().top]  #filtered for top city\n",
    "\n",
    "count=df.shape[0]\n",
    "\n",
    "df=df[df.Group!='Unknown']      # remove unknown\n",
    "\n",
    "city=df.City.describe().top  \n",
    "\n",
    "group=df.Group.describe().top\n",
    "\n",
    "#print('CITY    ', 'COUNT  ', 'GROUP')\n",
    "print(city, count, group)"
   ]
  },
  {
   "cell_type": "markdown",
   "metadata": {},
   "source": [
    "### 2. Terror Government "
   ]
  },
  {
   "cell_type": "markdown",
   "metadata": {},
   "source": [
    "Problem Statement :\n",
    "There was formation of new government in India on 26 May 2014. So current government's span is from 26th May 2014 to current. Find out two things from this period-\n",
    "\n",
    "1. Total number of attacks done in this period in India. Find this count as integer.\n",
    "2. Which Terrorist group was most active in this period in India. Most active means, group which has done maximum number of attacks. \n",
    "3.Ignore the Unknown group. \n",
    "\n",
    "Output Format :\n",
    "\n",
    "TotalAttacks MostActiveTerroristGroup"
   ]
  },
  {
   "cell_type": "code",
   "execution_count": 4,
   "metadata": {},
   "outputs": [
    {
     "name": "stdout",
     "output_type": "stream",
     "text": [
      "3336 Maoists\n"
     ]
    }
   ],
   "source": [
    "import pandas as pd\n",
    "df=pd.read_csv('terrorismData.csv')\n",
    "\n",
    "\n",
    "#  df=df[(df.Country=='India') & (df.Year>=2014) & (df.Group!='Unknown')]   # this is correct as per question\n",
    "df=df[(df.Country=='India') & (df.Year>=2014) ]      # this is as per answer, count will match without excluding unknown\n",
    "\n",
    "df1=df[(df.Year==2014) & (df.Month==5) & (df.Day < 26)]\n",
    "df2=df[(df.Year==2014) & (df.Month<5)]\n",
    "\n",
    "\n",
    "\n",
    "count=df.shape[0]-(df1.shape[0]+df2.shape[0])\n",
    "\n",
    "\n",
    "df=df[df.Group!='Unknown']   # this is to get the name of group excluding unknown\n",
    "\n",
    "group=df.Group.describe().top\n",
    "\n",
    "print(count,group)"
   ]
  },
  {
   "cell_type": "markdown",
   "metadata": {},
   "source": [
    "### 3. Terror Frequency "
   ]
  },
  {
   "cell_type": "markdown",
   "metadata": {},
   "source": [
    "Problem Statement :\n",
    "Find the frequency of the Casualty in Red Corridor states and in Jammu and Kashmir ?Here Frequency is (Total Casualty/Total Number of a year)\n",
    "Print frequency as integer value.\n",
    "Note:Red Corridor state includes Jharkhand, Odisha, Andhra Pradesh, and Chhattisgarh. Here Casualty=Killed +Wounded.Don't fill the nan value present in Killed and Wounded feature.\n",
    "Output Format :\n",
    "\n",
    "Frequency1 Frequency2 "
   ]
  },
  {
   "cell_type": "code",
   "execution_count": 5,
   "metadata": {},
   "outputs": [
    {
     "name": "stdout",
     "output_type": "stream",
     "text": [
      "115 261\n"
     ]
    }
   ],
   "source": [
    "import pandas as pd\n",
    "df = pd.read_csv(\"terrorismData.csv\")\n",
    "\n",
    "\n",
    "df[\"Casuality\"] = df.Killed + df.Wounded\n",
    "\n",
    "df1=df[(df.State=='Jharkhand') | (df.State=='Odisha') |(df.State=='Andhra Pradesh') | (df.State=='Chhattisgarh')]\n",
    "df2=df[df.State=='Jammu and Kashmir']\n",
    "\n",
    "\n",
    "\n",
    "sum_1 = df1.Casuality.sum()\n",
    "sum_2 = df2.Casuality.sum()\n",
    "\n",
    "year = len(set(df['Year']))\n",
    "\n",
    "print(int(sum_1//year),int(sum_2//year))"
   ]
  },
  {
   "cell_type": "markdown",
   "metadata": {},
   "source": [
    "### 4. Terror DeadliestAttack"
   ]
  },
  {
   "cell_type": "markdown",
   "metadata": {},
   "source": [
    "Problem Statement :\n",
    "Most Deadliest attack in a history of HumanKind?\n",
    "Print count of Killed people as integer value.\n",
    "Note: Here Deadliest attack means, in which the most number of people killed.\n",
    "Output Format :\n",
    "\n",
    "NumberOfPeopleKilled Country TerroristGroup"
   ]
  },
  {
   "cell_type": "code",
   "execution_count": 6,
   "metadata": {},
   "outputs": [
    {
     "name": "stdout",
     "output_type": "stream",
     "text": [
      "1570 Iraq Islamic State of Iraq and the Levant (ISIL)\n"
     ]
    }
   ],
   "source": [
    "import pandas as pd\n",
    "\n",
    "df=pd.read_csv('terrorismData.csv')\n",
    "\n",
    "count=int(max(df.Killed))\n",
    "\n",
    "df=df[df.Killed==count]\n",
    "countryname=df.Country.describe().top\n",
    "group=df.Group.describe().top\n",
    "print(count,countryname,group)"
   ]
  },
  {
   "cell_type": "markdown",
   "metadata": {},
   "source": [
    "### 5.  Terror Attack "
   ]
  },
  {
   "cell_type": "markdown",
   "metadata": {},
   "source": [
    "Problem Statement :\n",
    "Find out the Country with Highest Number of Terror Attack and in which year the most number of terrorist attack happened in that country ?\n",
    "Print count of terror attacks as integer value.\n",
    "Output Format :\n",
    "\n",
    "Country NumberOfAttack Year"
   ]
  },
  {
   "cell_type": "code",
   "execution_count": 7,
   "metadata": {},
   "outputs": [
    {
     "name": "stdout",
     "output_type": "stream",
     "text": [
      "Iraq 24636 2014\n"
     ]
    }
   ],
   "source": [
    "import pandas as pd\n",
    "\n",
    "df=pd.read_csv('terrorismData.csv')\n",
    "\n",
    "df=df[df.Country==df.Country.describe().top]\n",
    "\n",
    "name=df.Country.describe().top\n",
    "count=df.Country.count()\n",
    "\n",
    "year=df.Year.value_counts().index[0]      \n",
    "print(name,count,year)"
   ]
  },
  {
   "cell_type": "markdown",
   "metadata": {},
   "source": [
    "### This coding was done by @RK2021"
   ]
  }
 ],
 "metadata": {
  "kernelspec": {
   "display_name": "Python 3",
   "language": "python",
   "name": "python3"
  },
  "language_info": {
   "codemirror_mode": {
    "name": "ipython",
    "version": 3
   },
   "file_extension": ".py",
   "mimetype": "text/x-python",
   "name": "python",
   "nbconvert_exporter": "python",
   "pygments_lexer": "ipython3",
   "version": "3.8.5"
  }
 },
 "nbformat": 4,
 "nbformat_minor": 4
}
